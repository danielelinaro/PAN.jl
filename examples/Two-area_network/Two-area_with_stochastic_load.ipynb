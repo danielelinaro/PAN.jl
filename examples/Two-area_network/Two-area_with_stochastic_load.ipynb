{
 "cells": [
  {
   "cell_type": "markdown",
   "id": "c3130948",
   "metadata": {},
   "source": [
    "## Two-area network with a stochastic load"
   ]
  },
  {
   "cell_type": "markdown",
   "id": "4c038bf8",
   "metadata": {},
   "source": [
    "The purpose of this notebook is to show how pan can be used to simulate the two-area power network with a stochastic load. The behavior of the load is described by two Julia functions and the time series defining the stochastic load is also created in Julia."
   ]
  },
  {
   "cell_type": "markdown",
   "id": "a9e96edc",
   "metadata": {},
   "source": [
    "A single line schematic of Kundur's two area network is shown below:\n",
    "\n",
    "<a href=\"https://www.researchgate.net/figure/Kundurs-two-area-power-system_fig1_281703659\"><img src=\"https://www.researchgate.net/profile/Zahra-Rafi/publication/281703659/figure/fig1/AS:338164796411905@1457636178242/Kundurs-two-area-power-system.png\" alt=\"Kundur's two-area power system\"/></a>\n",
    "\n",
    "In the netlist used here, the loads connected at buses 7 and 9 are stochastic, i.e., their values are described by an Ornstein-Uhlenbeck process."
   ]
  },
  {
   "cell_type": "code",
   "execution_count": null,
   "id": "5477f4e9",
   "metadata": {},
   "outputs": [],
   "source": [
    "using Format: format, printfmtln\n",
    "using Printf: @printf\n",
    "using Random\n",
    "using Statistics\n",
    "using DSP\n",
    "using PAN\n",
    "using Printf\n",
    "using HDF5\n",
    "import LinearAlgebra"
   ]
  },
  {
   "cell_type": "markdown",
   "id": "a7be5bf5",
   "metadata": {},
   "source": [
    "The [netlist file](two-area.pan) contains the following line:\n",
    "\n",
    "`model STLOAD nport macro=yes setup=\"stoch_load_setup\" evaluate=\"stoch_load_eval\"`\n",
    "\n",
    "which instructs pan to look for two Julia functions called `stoch_load_setup` and `stoch_load_eval` when initializing and evaluating the N-port instance, respectively. The initialization function must return a dictionary with the parameters names as keys and their default value as values, while the evaluation function must return the implicit equations describing the N-port and their derivative w.r.t. currents and voltages. \n",
    "    \n",
    "For a more detailed description of how to implement an N-port device in Julia, see [this notebook](../NPort.ipynb)."
   ]
  },
  {
   "cell_type": "code",
   "execution_count": null,
   "id": "108357bd",
   "metadata": {},
   "outputs": [],
   "source": [
    "function stoch_load_setup()\n",
    "    return (P = 1e6, )\n",
    "end;\n",
    "\n",
    "function stoch_load_eval(n::Number, V::AbstractArray, I::AbstractArray, time::Number, parameters...)\n",
    "    MIN_MAGNITUDE = 200e3 ^ 2\n",
    "    P = parameters[1] * V[3] # active power\n",
    "    Q = 0\n",
    "    magnitude = V[1]^2 + V[2]^2\n",
    "    if magnitude < MIN_MAGNITUDE\n",
    "        magnitude = MIN_MAGNITUDE\n",
    "    end\n",
    "    magnitude_squared = magnitude ^ 2\n",
    "    f = [\n",
    "        I[1] - (V[1] * P + V[2] * Q) / magnitude,\n",
    "        I[2] - (V[2] * P - V[1] * Q) / magnitude,\n",
    "        I[3]\n",
    "    ]\n",
    "\n",
    "    C = zeros(n, n)\n",
    "    C[1,1] = -( P / magnitude - (V[1] * P + V[2] * Q) * 2 * V[1] / magnitude_squared)\n",
    "    C[1,2] = -( Q / magnitude - (V[1] * P + V[2] * Q) * 2 * V[2] / magnitude_squared)\n",
    "    C[1,3] = -(parameters[1] * V[1] / magnitude)\n",
    "    C[2,1] = -(-Q / magnitude - (V[2] * P - V[1] * Q) * 2 * V[1] / magnitude_squared)\n",
    "    C[2,2] = -( P / magnitude - (V[2] * P - V[1] * Q) * 2 * V[2] / magnitude_squared)\n",
    "    C[2,3] = -(parameters[1] * V[2] / magnitude)\n",
    "\n",
    "    R = Matrix{Float64}(LinearAlgebra.I, n, n)\n",
    "\n",
    "    return f, C, R\n",
    "end;"
   ]
  },
  {
   "cell_type": "markdown",
   "id": "1cf171c7",
   "metadata": {},
   "source": [
    "Here we define the two functions that are used to generate the Ornstein-Uhlenbeck process and to build a two-row matrix containing the time instants and the OU samples."
   ]
  },
  {
   "cell_type": "code",
   "execution_count": null,
   "id": "53b57858",
   "metadata": {},
   "outputs": [],
   "source": [
    "function OU(dt::Number, alpha::Number, mu::Number, sigma::Number, N::Integer; rng = nothing)\n",
    "    coeff = [alpha * mu * dt, 1 / (1 + alpha * dt)]\n",
    "    if rng != nothing\n",
    "        rnd = sigma * sqrt(dt) * randn(rng, N)\n",
    "    else\n",
    "        rnd = sigma * sqrt(dt) * randn(N)\n",
    "    end\n",
    "    ou = zeros(N)\n",
    "    ou[1] = mu\n",
    "    for i = 1 :  N-1\n",
    "        ou[i+1] = (ou[i] + coeff[1] + rnd[i]) * coeff[2]\n",
    "    end\n",
    "    return ou\n",
    "end;\n",
    "\n",
    "function make_noise_samples(tstart::Number, tend::Number, dt::Number, alpha::Number,\n",
    "                            mu::Number, sigma::Number, seed::Number)\n",
    "    t = dt .+ (tstart : dt : tstop)\n",
    "    N_samples = length(t)\n",
    "    rng = MersenneTwister(seed)\n",
    "    noise_samples = zeros(2, N_samples)\n",
    "    noise_samples[1,:] = t\n",
    "    noise_samples[2,:] = OU(dt, alpha, mu, sigma, N_samples, rng = rng)\n",
    "    return noise_samples\n",
    "end;"
   ]
  },
  {
   "cell_type": "markdown",
   "id": "45288188",
   "metadata": {},
   "source": [
    "The following two lines in the [netlist file](two-area.pan)\n",
    "\n",
    "`V7   rnd7   gnd  vsource wave=\"noise_samples_bus_7\"` <br/>\n",
    "`V9   rnd9   gnd  vsource wave=\"noise_samples_bus_9\"`\n",
    "\n",
    "tell pan that it should look for two variables (called `noise_samples_bus_7` and `noise_samples_bus_9`) in Julia memory to use as waveforms for the `V7` and `V9` voltage source objects.\n",
    "\n",
    "We therefore build these two variables by calling the `make_noise_sample` function defined above."
   ]
  },
  {
   "cell_type": "code",
   "execution_count": null,
   "id": "b3cdd6ef",
   "metadata": {},
   "outputs": [],
   "source": [
    "alpha = 0.5\n",
    "mu = 0\n",
    "sigma = 0.5\n",
    "frand = 10\n",
    "dt = 1 / frand\n",
    "tstart = 0\n",
    "tstop = 1 * 60 * 60\n",
    "\n",
    "noise_samples_bus_7 = make_noise_samples(tstart, 1.01 * tstop, dt, alpha, mu, sigma, 1234567)\n",
    "noise_samples_bus_9 = make_noise_samples(tstart, 1.01 * tstop, dt, alpha, mu, sigma, 6234160);"
   ]
  },
  {
   "cell_type": "markdown",
   "id": "fd015815",
   "metadata": {},
   "source": [
    "### Load the netlist"
   ]
  },
  {
   "cell_type": "code",
   "execution_count": null,
   "id": "0b632f61",
   "metadata": {},
   "outputs": [],
   "source": [
    "netlist_file = \"two-area.pan\"\n",
    "ok, libs = load_netlist(netlist_file)\n",
    "if ! ok\n",
    "    println(\"load_netlist failed.\")\n",
    "end"
   ]
  },
  {
   "cell_type": "markdown",
   "id": "938387b5",
   "metadata": {},
   "source": [
    "### Run a transient analysis\n",
    "\n",
    "By defining `mem_vars`, we ask pan to return the values of these variables saved to memory when `tran` returns. In this way, we don't have to load the same data from a file."
   ]
  },
  {
   "cell_type": "code",
   "execution_count": null,
   "id": "124b8b39",
   "metadata": {},
   "outputs": [],
   "source": [
    "mem_vars = [\"time\", \"omega1\", \"omega2\", \"omega3\", \"omega4\"]\n",
    "data = tran(\"Tr\", tstop, mem_vars, libs, nettype=1, method=1, timepoints=1/frand, forcetps=1)"
   ]
  },
  {
   "cell_type": "markdown",
   "id": "bd94606b",
   "metadata": {},
   "source": [
    "### Compute the PSD of the rotors' angular velocities"
   ]
  },
  {
   "cell_type": "code",
   "execution_count": null,
   "id": "c6c4568b",
   "metadata": {},
   "outputs": [],
   "source": [
    "time = data[:, 1]\n",
    "omega = 60 * data[:, 2:end]\n",
    "n_omega = size(omega)[2]\n",
    "ps = [welch_pgram(omega[:,i], fs=frand) for i = 1:n_omega];"
   ]
  },
  {
   "cell_type": "markdown",
   "id": "2b0e9043",
   "metadata": {},
   "source": [
    "### Plot the results"
   ]
  },
  {
   "cell_type": "code",
   "execution_count": null,
   "id": "96d1fb91",
   "metadata": {},
   "outputs": [],
   "source": [
    "using PyPlot\n",
    "rcParams = PyPlot.PyDict(PyPlot.matplotlib.\"rcParams\")\n",
    "rcParams[\"font.family\"] = \"serif\"\n",
    "rcParams[\"font.serif\"] = [\"Times New Roman\"]\n",
    "figure(figsize=(8.5 / 2.54, 5 / 2.54))\n",
    "fig = gcf()\n",
    "ax = gca()\n",
    "ax.set_position([0.2, 0.2, 0.75, 0.75])\n",
    "cmap = (\"black\", \"red\", \"green\", \"blue\")\n",
    "for i = 1:n_omega\n",
    "    plot(ps[i].freq, pow2db.(ps[i].power), color=cmap[i], label=latexstring(\"\\\\omega_\" * string(i)), linewidth=1)\n",
    "end\n",
    "ax.grid(which=\"major\", axis=\"y\", linewidth=0.5, linestyle=\":\")\n",
    "for side in (\"right\",\"top\")\n",
    "    ax.spines[side].set_visible(false)\n",
    "end\n",
    "ax.set_xlabel(\"Frequency [Hz]\", fontsize=8)\n",
    "ax.set_ylabel(\"Power [dB]\", fontsize=8)\n",
    "ax.legend(loc=\"lower left\", fontsize=8)\n",
    "ax.set_ylim([-125, -60])\n",
    "ax.tick_params(axis=\"x\", labelsize=8)\n",
    "ax.tick_params(axis=\"y\", labelsize=8)\n",
    "savefig(\"stochastic_load.pdf\")"
   ]
  },
  {
   "cell_type": "markdown",
   "id": "2c2c8c72",
   "metadata": {},
   "source": [
    "### Save the results to disk"
   ]
  },
  {
   "cell_type": "code",
   "execution_count": null,
   "id": "8e8012c9",
   "metadata": {},
   "outputs": [],
   "source": [
    "freq = collect([[f for f in ps[i].freq] for i = 1 : length(ps)])\n",
    "Pxx = collect([[p for p in pow2db.(ps[i].power)] for i = 1 : length(ps)])\n",
    "for i = 1 : length(freq)\n",
    "    h5write(\"stochastic_load.h5\", \"data/freq_\" * string(i), freq[i])\n",
    "    h5write(\"stochastic_load.h5\", \"data/Pxx_\" * string(i), Pxx[i])\n",
    "end"
   ]
  }
 ],
 "metadata": {
  "kernelspec": {
   "display_name": "Julia 1.6.1",
   "language": "julia",
   "name": "julia-1.6"
  },
  "language_info": {
   "file_extension": ".jl",
   "mimetype": "application/julia",
   "name": "julia",
   "version": "1.6.1"
  }
 },
 "nbformat": 4,
 "nbformat_minor": 5
}
