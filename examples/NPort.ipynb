{
 "cells": [
  {
   "cell_type": "code",
   "execution_count": null,
   "metadata": {},
   "outputs": [],
   "source": [
    "using PAN\n",
    "using Format: format, printfmtln\n",
    "using Random: rand\n",
    "using Optim\n",
    "using Plots"
   ]
  },
  {
   "cell_type": "code",
   "execution_count": null,
   "metadata": {},
   "outputs": [],
   "source": [
    "netlist = \"\"\"\n",
    "ground electrical gnd\n",
    "\n",
    "E1  x   gnd  vsource     dc=10\n",
    "R1  x   y    resistor    r={}\n",
    "I1  y   gnd  JLRESISTOR  resistance={}\n",
    "\n",
    "model JLRESISTOR nport macro=yes setup=\"jlres_setup\" evaluate=\"jlres_eval\"\n",
    "\"\"\"\n",
    "R0 = 5.0\n",
    "netlist = format(netlist, R0, 2*R0);"
   ]
  },
  {
   "cell_type": "code",
   "execution_count": null,
   "metadata": {},
   "outputs": [],
   "source": [
    "netlist_file = \"nport.pan\"\n",
    "open(netlist_file, \"w\") do io\n",
    "    write(io, netlist)\n",
    "end;"
   ]
  },
  {
   "cell_type": "code",
   "execution_count": null,
   "metadata": {},
   "outputs": [],
   "source": [
    "jlres_setup() = (resistance = 5.0, );"
   ]
  },
  {
   "cell_type": "code",
   "execution_count": null,
   "metadata": {},
   "outputs": [],
   "source": [
    "function jlres_eval(n::Number, V::AbstractArray, I::AbstractArray, time::Number, parameters...)\n",
    "    r = parameters[1]\n",
    "    f = V - r * I\n",
    "    C = Matrix{Float64}(undef, 1, 1)\n",
    "    R = Matrix{Float64}(undef, 1, 1)\n",
    "    C[1,1] = 1.0\n",
    "    R[1,1] = -r\n",
    "    return f, C, R\n",
    "end;"
   ]
  },
  {
   "cell_type": "code",
   "execution_count": null,
   "metadata": {},
   "outputs": [],
   "source": [
    "ok, libs = load_netlist(netlist_file)\n",
    "if ! ok\n",
    "    println(\"load_netlist failed.\")\n",
    "end"
   ]
  },
  {
   "cell_type": "code",
   "execution_count": null,
   "metadata": {},
   "outputs": [],
   "source": [
    "function cost(R)\n",
    "    cost_id = string(Int32(round(rand() * 1e6)))\n",
    "    alter(string(\"Al_\", cost_id), \"resistance\", R[1], libs, instance=\"I1\", invalidate=\"no\", annotate=4)\n",
    "    V = DC(string(\"Dc_\", cost_id), [\"y\"], libs, print=\"yes\")\n",
    "    -V[1]^2 / R[1]\n",
    "end;"
   ]
  },
  {
   "cell_type": "code",
   "execution_count": null,
   "metadata": {},
   "outputs": [],
   "source": [
    "res = optimize(cost, 0, 100 * R0, GoldenSection());\n",
    "Ropt = Optim.minimizer(res);"
   ]
  },
  {
   "cell_type": "code",
   "execution_count": null,
   "metadata": {},
   "outputs": [],
   "source": [
    "printfmtln(\"   Optimal value of resistance: {:.2f} Ohm.\", Ropt)\n",
    "printfmtln(\"Number of function evaluations: {}.\", Optim.iterations(res))"
   ]
  },
  {
   "cell_type": "code",
   "execution_count": null,
   "metadata": {},
   "outputs": [],
   "source": [
    "R = range(R0 / 10, 10 * R0; length=100)\n",
    "V = DC(\"Dcsweep\", [\"y\"], libs, start=R[1], stop=R[end], step=diff(R)[1], instance=\"I1\", param=\"resistance\");"
   ]
  },
  {
   "cell_type": "code",
   "execution_count": null,
   "metadata": {},
   "outputs": [],
   "source": [
    "plot(R, V.^2 ./ R, color=\"black\", lw=2, label=\"\")\n",
    "plot!(Ropt.+zeros(2), [ylims()...], color=\"red\", lw=1, label=\"Optimal value\")\n",
    "xlabel!(\"Resistance [Ω]\")\n",
    "ylabel!(\"Power [W]\")"
   ]
  }
 ],
 "metadata": {
  "kernelspec": {
   "display_name": "Julia 1.6.1",
   "language": "julia",
   "name": "julia-1.6"
  },
  "language_info": {
   "file_extension": ".jl",
   "mimetype": "application/julia",
   "name": "julia",
   "version": "1.6.1"
  }
 },
 "nbformat": 4,
 "nbformat_minor": 4
}
