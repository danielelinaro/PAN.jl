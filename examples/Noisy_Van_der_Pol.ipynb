{
 "cells": [
  {
   "cell_type": "markdown",
   "metadata": {},
   "source": [
    "## How to access a Julia variable in PAN"
   ]
  },
  {
   "cell_type": "code",
   "execution_count": null,
   "metadata": {
    "scrolled": true
   },
   "outputs": [],
   "source": [
    "using PAN\n",
    "using Random\n",
    "using Plots\n",
    "using Printf: @printf"
   ]
  },
  {
   "cell_type": "markdown",
   "metadata": {},
   "source": [
    "The purpose of this notebook is to illustrate how a Julia variable can be used in a PAN netlist.\n",
    "\n",
    "As an example, we will use the Van der Pol oscillator: for a detailed description of the model, see the [Van der Pol notebook](Van_der_Pol.ipynb).\n",
    "\n",
    "The following netlist defines the Van der Pol circuit in PAN. Notice the presence of the <tt>port</tt> device, whose parameter <tt>noisesamples</tt> specifies the name of the variable containing the noisy samples. The content of this variable will be explained in the following. "
   ]
  },
  {
   "cell_type": "code",
   "execution_count": null,
   "metadata": {},
   "outputs": [],
   "source": [
    "netlist = \"\"\"\n",
    "ground electrical gnd\n",
    "\n",
    "parameters G=1/10k\n",
    "\n",
    "; Circuit\n",
    "\n",
    "p1    x   gnd  x    gnd  poly n0=0 n1=-1 n2=0 n3=1 d0=1\n",
    "c1    x   gnd  capacitor c=1 icon=200m\n",
    "rx    x   gnd  RES  r=1/G\n",
    "l1    x   gnd  inductor  l=1\n",
    "\n",
    "ns    x   gns  port noisesamples=\"noisy_jl\"\n",
    "\n",
    "model RES resistor kf=0 af=1\n",
    "\"\"\";"
   ]
  },
  {
   "cell_type": "markdown",
   "metadata": {},
   "source": [
    "#### Write the above netlist to file"
   ]
  },
  {
   "cell_type": "code",
   "execution_count": null,
   "metadata": {},
   "outputs": [],
   "source": [
    "netlist_file = \"vanderpol_with_noise.pan\"\n",
    "open(netlist_file, \"w\") do io\n",
    "    write(io, netlist)\n",
    "end;"
   ]
  },
  {
   "cell_type": "markdown",
   "metadata": {},
   "source": [
    "### Load the netlist with the description of the circuit\n",
    "No analysis is performed at this point, since none is defined in the netlist."
   ]
  },
  {
   "cell_type": "code",
   "execution_count": null,
   "metadata": {},
   "outputs": [],
   "source": [
    "ok, libs = load_netlist(netlist_file)\n",
    "if ! ok\n",
    "    @printf(\"Problems loading netlist '%s'.\\n\", netlist_file)\n",
    "end"
   ]
  },
  {
   "cell_type": "markdown",
   "metadata": {},
   "source": [
    "### Build the variable to be used in PAN\n",
    "The noise samples need to be stored in a matrix with two rows, representing time instants and noise values, respectively. The number of samples needs to be sufficient to cover the whole duration of the simulation: PAN will use the same noise value for those time instants that fall in between the ones provided by the user."
   ]
  },
  {
   "cell_type": "code",
   "execution_count": null,
   "metadata": {},
   "outputs": [],
   "source": [
    "dt = 0.1\n",
    "tstop = 100\n",
    "n_samples = Integer(tstop / dt) + 2\n",
    "noisy_jl = zeros(2, n_samples)\n",
    "noisy_jl[1,:] = 0 : dt : (tstop + dt)\n",
    "noisy_jl[2,:] = 1000 * randn(n_samples);"
   ]
  },
  {
   "cell_type": "markdown",
   "metadata": {},
   "source": [
    "### Run a transient analysis\n",
    "\n",
    "Notice that the <tt>noiseinj=2</tt> option to the tran analysis specifies that noise is injected only in the (nonlinear) circuit and therefore affects exclusively the large signal solution. <br/>\n",
    "Alternatively, one could use <tt>noiseinj=1</tt> to indicate that noise should be injected in the variational part of the circuit."
   ]
  },
  {
   "cell_type": "code",
   "execution_count": null,
   "metadata": {},
   "outputs": [],
   "source": [
    "tran_name = \"Tr\"\n",
    "mem_vars = [\"time\", \"x\", \"l1:i\"]\n",
    "data = tran(tran_name, tstop, mem_vars, libs, uic=1, noisefmax=10, noiseinj=2);"
   ]
  },
  {
   "cell_type": "markdown",
   "metadata": {},
   "source": [
    "### Plot the results"
   ]
  },
  {
   "cell_type": "code",
   "execution_count": null,
   "metadata": {},
   "outputs": [],
   "source": [
    "plot(data[:,1], data[:,2], color=\"black\", lw=1, label=\"v_C [V]\")\n",
    "plot!(data[:,1], data[:,3], color=\"red\", lw=1, label=\"i_L [A]\")\n",
    "xlabel!(\"Time [s]\")"
   ]
  }
 ],
 "metadata": {
  "kernelspec": {
   "display_name": "Julia 1.6.1",
   "language": "julia",
   "name": "julia-1.6"
  },
  "language_info": {
   "file_extension": ".jl",
   "mimetype": "application/julia",
   "name": "julia",
   "version": "1.6.1"
  }
 },
 "nbformat": 4,
 "nbformat_minor": 4
}
