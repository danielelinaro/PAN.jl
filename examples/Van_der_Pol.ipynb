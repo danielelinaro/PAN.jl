{
 "cells": [
  {
   "cell_type": "markdown",
   "id": "c96c344b",
   "metadata": {},
   "source": [
    "## Example of usage of the Julia interface to the circuit simulator PAN"
   ]
  },
  {
   "cell_type": "code",
   "execution_count": null,
   "id": "48770c50",
   "metadata": {},
   "outputs": [],
   "source": [
    "using PAN\n",
    "using Printf: @printf\n",
    "using Plots"
   ]
  },
  {
   "cell_type": "markdown",
   "id": "5f3d5032",
   "metadata": {},
   "source": [
    "The purpose of this notebook is to show some of PAN's basic functionalities that can be accessed by means of the Julia interface.\n",
    "\n",
    "We will use a netlist that implements the Van der Pol oscillator, whose equations are the following:\n",
    "\n",
    "$$\n",
    "\\begin{equation*}\n",
    "\\left\\{\n",
    "\\begin{array}{rcl}\n",
    "\\dot{x} & = & \\epsilon\\ (1 - x^2)\\ x - y \\\\\n",
    "\\dot{y} & = & x \\ ,\n",
    "\\end{array}\n",
    "\\right.\n",
    "\\end{equation*}\n",
    "$$\n",
    "\n",
    "where $x$ represents the voltage across the capacitor, $y$ is the current in the inductor and the parameter $\\epsilon$ is a positive constant that determines the frequency of the oscillator. If $\\epsilon \\ll 1$, the oscillating frequency is equal to $2\\pi$, whereas if $\\epsilon$ is larger, the frequency is a function of $\\epsilon$ itself.\n",
    "\n",
    "We will start with $\\epsilon=0.001$ and then increase it to 5."
   ]
  },
  {
   "cell_type": "markdown",
   "id": "c5bed6e0",
   "metadata": {},
   "source": [
    "The following netlist defines the Van der Pol circuit in PAN."
   ]
  },
  {
   "cell_type": "code",
   "execution_count": null,
   "id": "60ca68d0",
   "metadata": {},
   "outputs": [],
   "source": [
    "netlist = \"\"\"\n",
    "ground electrical gnd\n",
    "\n",
    "parameter EPS=1m\n",
    "\n",
    "; This dummy alter is necessary to be able to change the value of the parameter from Julia\n",
    "Alrt alter param=\"EPS\" rt=yes\n",
    "\n",
    "; The circuit\n",
    "\n",
    "p1    x   gnd  x    vccs func=-EPS*v(x) + EPS*v(x)^3\n",
    "c1    x   gnd  capacitor c=1 icon=2m\n",
    "l1    x   gnd  inductor  l=1\n",
    "\"\"\";"
   ]
  },
  {
   "cell_type": "markdown",
   "id": "14196013",
   "metadata": {},
   "source": [
    "Write the above netlist to file."
   ]
  },
  {
   "cell_type": "code",
   "execution_count": null,
   "id": "0df97a0d",
   "metadata": {},
   "outputs": [],
   "source": [
    "netlist_file = \"vanderpol.pan\"\n",
    "open(netlist_file, \"w\") do io\n",
    "    write(io, netlist)\n",
    "end;"
   ]
  },
  {
   "cell_type": "markdown",
   "id": "d1de8d4b",
   "metadata": {},
   "source": [
    "### Load the netlist with the description of the circuit\n",
    "No analysis is performed at this point, since none is defined in the netlist."
   ]
  },
  {
   "cell_type": "code",
   "execution_count": null,
   "id": "1279b9e5",
   "metadata": {},
   "outputs": [],
   "source": [
    "ok, libs = load_netlist(netlist_file);\n",
    "if ! ok\n",
    "    @printf(\"Problems loading netlist '%s'.\\n\", netlist_file)\n",
    "end"
   ]
  },
  {
   "cell_type": "markdown",
   "id": "7dca2e89",
   "metadata": {},
   "source": [
    "### Run a first (short) transient analysis"
   ]
  },
  {
   "cell_type": "code",
   "execution_count": null,
   "id": "83afb26e",
   "metadata": {},
   "outputs": [],
   "source": [
    "tstop = 1000\n",
    "mem_vars = [\"time\", \"x\", \"l1:i\"]\n",
    "tran_1 = tran(\"Tr1\", tstop, mem_vars, libs, uic=1, vabstol=1e-10);"
   ]
  },
  {
   "cell_type": "markdown",
   "id": "80b621e6",
   "metadata": {},
   "source": [
    "### Run a longer envelope analysis\n",
    "The dynamics of the system are very slow, hence it is convenient to use an envelope analysis to speed up the integration of the system."
   ]
  },
  {
   "cell_type": "code",
   "execution_count": null,
   "id": "69d8704b",
   "metadata": {},
   "outputs": [],
   "source": [
    "tstop = 50e3\n",
    "T = 2 * pi\n",
    "env = envelope(\"En\", tstop, T, mem_vars, libs, autonomous=\"yes\", restart=\"no\");"
   ]
  },
  {
   "cell_type": "markdown",
   "id": "00acf497",
   "metadata": {},
   "source": [
    "### Run a shooting analysis\n",
    "We can confirm that the envelope integration has reached the steady-state by comparing the last cycle obtained with the envelope with the one found by means of the shooting procedure."
   ]
  },
  {
   "cell_type": "code",
   "execution_count": null,
   "id": "d74b2c72",
   "metadata": {},
   "outputs": [],
   "source": [
    "shoot_1 = shooting(\"Sh1\", T, mem_vars, libs, autonomous=\"yes\", restart=\"no\",\n",
    "    method=2, floquet=\"yes\", tmax=100e-6, printmo=\"yes\", eigf=1, eigfnorm=1, samples=200);"
   ]
  },
  {
   "cell_type": "markdown",
   "id": "2e734a6a",
   "metadata": {},
   "source": [
    "### Alter the value of a parameter\n",
    "We increase the value of $\\epsilon$ from 0.001 to 5."
   ]
  },
  {
   "cell_type": "code",
   "execution_count": null,
   "id": "2c5a3e49",
   "metadata": {},
   "outputs": [],
   "source": [
    "alter(\"Al\", \"EPS\", 5, libs, invalidate=\"no\", annotate=4);"
   ]
  },
  {
   "cell_type": "markdown",
   "id": "bc44fa84",
   "metadata": {},
   "source": [
    "### Run a second shooting analysis\n",
    "We want to see how much the shape of the limit cycle has changed with the new value of $\\epsilon$."
   ]
  },
  {
   "cell_type": "code",
   "execution_count": null,
   "id": "047e08d7",
   "metadata": {},
   "outputs": [],
   "source": [
    "shoot_2 = shooting(\"Sh2\", T, mem_vars, libs, autonomous=\"yes\", restart=\"no\",\n",
    "    method=2, floquet=\"yes\", tmax=100e-6, printmo=\"yes\", eigf=1, eigfnorm=1, samples=200);"
   ]
  },
  {
   "cell_type": "markdown",
   "id": "f76fcbc8",
   "metadata": {},
   "source": [
    "### Plot the results"
   ]
  },
  {
   "cell_type": "code",
   "execution_count": null,
   "id": "5b36740f",
   "metadata": {},
   "outputs": [],
   "source": [
    "gr()\n",
    "l = @layout [a b ; c d]\n",
    "\n",
    "p1 = plot(tran_1[:,1], tran_1[:,2], color=\"black\", lw=1, label=\"Tran\");\n",
    "plot!(env[:,1], env[:,2], color=\"red\", lw=1, label=\"Envelope\");\n",
    "plot!(shoot_1[:,1], shoot_1[:,2], color=\"green\", lw=1, label=\"Shooting-1\");\n",
    "plot!(shoot_2[:,1], shoot_2[:,2], color=\"magenta\", lw=1, label=\"Shooting-2\");\n",
    "xlabel!(\"Time [s]\");\n",
    "ylabel!(\"v_C [V]\");\n",
    "\n",
    "p2 = plot(shoot_1[:,2], shoot_1[:,3], color=\"green\", lw=2, label=\"Shooting-1\");\n",
    "plot!(shoot_2[:,2], shoot_2[:,3], color=\"magenta\", lw=2, label=\"Shooting-2\");\n",
    "xlabel!(\"v_C [V]\");\n",
    "ylabel!(\"i_L [A]\");\n",
    "\n",
    "idx = findall(t -> t > 950, tran_1[:,1]);\n",
    "p3 = plot(tran_1[idx,1], tran_1[idx,2], color=\"black\", lw=1, legend=false);\n",
    "idx = findall(t -> t < 1100, env[:,1]);\n",
    "plot!(env[idx,1], env[idx,2], color=\"red\", lw=1);\n",
    "xlabel!(\"Time [s]\");\n",
    "ylabel!(\"v_C [V]\");\n",
    "\n",
    "idx = findall(t -> t > tstop - 20, env[:,1])\n",
    "p4 = plot(env[idx,1], env[idx,2], color=\"red\", lw=2, legend=false);\n",
    "plot!(shoot_1[:,1], shoot_1[:,2], color=\"green\", lw=2);\n",
    "plot!(shoot_2[:,1], shoot_2[:,2], color=\"magenta\", lw=2);\n",
    "xlabel!(\"Time [s]\");\n",
    "ylabel!(\"v_C [V]\");\n",
    "\n",
    "plot(p1, p2, p3, p4, layout=l, show=true)"
   ]
  }
 ],
 "metadata": {
  "kernelspec": {
   "display_name": "Julia 1.6.1",
   "language": "julia",
   "name": "julia-1.6"
  },
  "language_info": {
   "file_extension": ".jl",
   "mimetype": "application/julia",
   "name": "julia",
   "version": "1.6.1"
  }
 },
 "nbformat": 4,
 "nbformat_minor": 5
}
